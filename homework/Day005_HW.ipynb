{
 "cells": [
  {
   "cell_type": "markdown",
   "metadata": {
    "colab_type": "text",
    "id": "nE5OcA6lTcz0"
   },
   "source": [
    "# API 資料串接 - 以 Dcard API 實作範例\n",
    "\n",
    "* 了解 Dcard API 使用方式與回傳內容\n",
    "* 撰寫程式存取 API 且解析 JSON 格式資料\n"
   ]
  },
  {
   "cell_type": "markdown",
   "metadata": {
    "colab_type": "text",
    "id": "cRKh4k10Tcz3"
   },
   "source": [
    "## 作業目標\n",
    "\n",
    "* 請利用 API: https://www.dcard.tw/_api/forums/pet/posts?popular=true 回答下列問題：\n",
    "\n",
    "1. 這個 API 一次會回傳幾筆資料？每一筆資料包含哪些欄位？\n",
    "2. 取出每一筆資料的「標題」、「貼文時間」、「留言人數」、「按讚人數」\n",
    "3. 計算熱門/非熱門文章的「平均留言人數」與「平均按讚人數」"
   ]
  },
  {
   "cell_type": "code",
   "execution_count": 2,
   "metadata": {
    "colab": {
     "base_uri": "https://localhost:8080/",
     "height": 637
    },
    "colab_type": "code",
    "id": "ec7_95bTTcz5",
    "outputId": "b06586ac-5158-4c59-e0ae-8bb086b672d1"
   },
   "outputs": [
    {
     "name": "stdout",
     "output_type": "stream",
     "text": [
      "小貓咪的起床5步驟\n",
      "我被一群貓跟蹤了（更）\n",
      "橘貓基因真的沒有在開玩笑！\n",
      "誰家的貓也這麼乖？\n",
      "貓貓很猶豫要啃爆袋子還是拆爆椅子\n",
      "養了不明生物？？\n",
      "要來我家看貓嗎？是一隻小白狗唷\n",
      "不小心散落一地的小狗😂\n",
      "遇見妳  是我的幸運（文長）\n",
      "原來貓打架也會放水😳\n",
      "#圖 我不是土狗，我是黑狼犬🐺\n",
      "關於養一隻鼠大大小小的開銷\n",
      "浪浪\n",
      "我是多多我想回家\n",
      "#圖多 曬貓照 帶著貓上武嶺（兩天一夜 包括景點跟民宿介紹\n",
      "嚕鳥鳥❤️\n",
      "#圖多 領養回來的貓 跟想像中不一樣？\n",
      "我家的屁屁基\n",
      "人生的問題\n",
      "#布丁鼠 1M5D 每天都被萌翻天❤️\n",
      "兩賓士求長期飯票\n",
      "嘿，人類\n",
      "貓瘟的後遺症\n",
      "這是什麼品種的狗\n",
      "從小陪我到大的牠\n",
      "騷起來🥴🐈\n",
      "啊啊叫的撒嬌聲🥰\n",
      "蜥蜴吃飯\n",
      "六個月與一歲的差距\n",
      "#問 貓咪的品種\n",
      "\n",
      "【答】\n",
      "(1) 這個API一次會回傳30筆資料\n",
      "(2)\n",
      "dict_keys(['id', 'title', 'excerpt', 'anonymousSchool', 'anonymousDepartment', 'pinned', 'forumId', 'replyId', 'createdAt', 'updatedAt', 'commentCount', 'likeCount', 'withNickname', 'tags', 'topics', 'meta', 'forumName', 'forumAlias', 'nsfw', 'gender', 'school', 'department', 'replyTitle', 'mediaMeta', 'reactions', 'hidden', 'customStyle', 'isSuspiciousAccount', 'layout', 'withImages', 'withVideos', 'media', 'reportReasonText', 'excerptComments', 'postAvatar'])\n"
     ]
    }
   ],
   "source": [
    "# 1. 這個 API 一次會回傳幾筆資料？每一筆資料包含哪些欄位？\n",
    "\n",
    "import requests\n",
    "import json\n",
    "r = requests.get('https://www.dcard.tw/_api/forums/pet/posts?popular=true')\n",
    "response = r.text\n",
    "data = json.loads(r.text)\n",
    "\n",
    "for d in data:\n",
    "    print(d['title'])\n",
    "\n",
    "print(\"\")\n",
    "print(\"【答】\")\n",
    "print(\"(1) 這個API一次會回傳{}筆資料\".format(len(data)))\n",
    "print(\"(2)\")\n",
    "print(data[0].keys())"
   ]
  },
  {
   "cell_type": "code",
   "execution_count": 3,
   "metadata": {
    "colab": {
     "base_uri": "https://localhost:8080/",
     "height": 548
    },
    "colab_type": "code",
    "id": "musRBbiBTc0B",
    "outputId": "6d4b1a49-4b07-4489-cc6e-a2d2de2f1c5c"
   },
   "outputs": [
    {
     "name": "stdout",
     "output_type": "stream",
     "text": [
      "【答】(擷取於2020/08/29 17:00)\n",
      "小貓咪的起床5步驟                                         2020-08-28T02:02:50.311Z   13  654\n",
      "我被一群貓跟蹤了（更）                                       2020-08-28T15:40:20.694Z   45  633\n",
      "橘貓基因真的沒有在開玩笑！                                     2020-08-28T10:09:42.457Z   31  474\n",
      "誰家的貓也這麼乖？                                         2020-08-27T23:45:07.220Z   20  241\n",
      "貓貓很猶豫要啃爆袋子還是拆爆椅子                                  2020-08-28T07:49:46.126Z    3  184\n",
      "養了不明生物？？                                          2020-08-28T13:21:06.318Z   10  152\n",
      "要來我家看貓嗎？是一隻小白狗唷                                   2020-08-28T03:42:29.624Z    6  122\n",
      "不小心散落一地的小狗😂                                       2020-08-28T10:23:59.601Z    2   52\n",
      "遇見妳  是我的幸運（文長）                                    2020-08-28T08:13:55.470Z    5   50\n",
      "原來貓打架也會放水😳                                        2020-08-28T13:19:43.186Z    2   34\n",
      "#圖 我不是土狗，我是黑狼犬🐺                                   2020-08-28T11:42:22.139Z    3   27\n",
      "關於養一隻鼠大大小小的開銷                                     2020-08-28T12:14:08.448Z    4   23\n",
      "浪浪                                                2020-08-28T00:33:09.935Z    5   13\n",
      "我是多多我想回家                                          2020-08-28T17:15:48.961Z    0   12\n",
      "#圖多 曬貓照 帶著貓上武嶺（兩天一夜 包括景點跟民宿介紹                     2020-08-28T15:35:37.825Z    4   10\n",
      "嚕鳥鳥❤️                                             2020-08-29T03:06:17.216Z    0    8\n",
      "#圖多 領養回來的貓 跟想像中不一樣？                               2020-08-28T03:21:53.274Z    0    8\n",
      "我家的屁屁基                                            2020-08-29T01:50:54.515Z    0    6\n",
      "人生的問題                                             2020-08-28T18:58:24.696Z    0    6\n",
      "#布丁鼠 1M5D 每天都被萌翻天❤️                               2020-08-28T16:55:03.664Z    1    6\n",
      "兩賓士求長期飯票                                          2020-08-29T06:48:29.834Z    1    5\n",
      "嘿，人類                                              2020-08-29T04:45:24.816Z    1    4\n",
      "貓瘟的後遺症                                            2020-08-28T13:22:00.793Z    1    4\n",
      "這是什麼品種的狗                                          2020-08-28T09:46:23.274Z    2    4\n",
      "從小陪我到大的牠                                          2020-08-28T21:17:11.370Z    0    3\n",
      "騷起來🥴🐈                                             2020-08-28T20:51:04.284Z    2    3\n",
      "啊啊叫的撒嬌聲🥰                                          2020-08-28T11:50:28.773Z    0    3\n",
      "蜥蜴吃飯                                              2020-08-29T06:31:47.376Z    1    2\n",
      "六個月與一歲的差距                                         2020-08-29T01:52:35.016Z    1    2\n",
      "#問 貓咪的品種                                          2020-08-28T18:14:13.402Z    4    2\n"
     ]
    }
   ],
   "source": [
    "# 2. 取出每一筆資料的「標題」、「貼文時間」、「留言人數」、「按讚人數」\n",
    "\n",
    "print('【答】(擷取於2020/08/29 17:00)')\n",
    "for d in data:\n",
    "    print(\"{:<50s}{}{:>5d}{:>5d}\".format(d['title'], d['createdAt'], d['commentCount'], d['likeCount']))"
   ]
  },
  {
   "cell_type": "code",
   "execution_count": 4,
   "metadata": {
    "colab": {
     "base_uri": "https://localhost:8080/",
     "height": 68
    },
    "colab_type": "code",
    "id": "uvez4mcXTc0I",
    "outputId": "648517d7-1992-41af-ba20-5b4c17bf6b60"
   },
   "outputs": [
    {
     "name": "stdout",
     "output_type": "stream",
     "text": [
      "【答】\n",
      "熱門文章的平均留言人數: 5.567，平均按讚人數: 91.567\n",
      "非熱門文章的平均留言人數: 2.467，平均按讚人數: 24.500\n"
     ]
    }
   ],
   "source": [
    "# 3. 計算熱門/非熱門文章的「平均留言人數」與「平均按讚人數」\n",
    "r1 = requests.get('https://www.dcard.tw/_api/forums/pet/posts?popular=false')\n",
    "response1 = r1.text\n",
    "data1 = json.loads(response1)\n",
    "\n",
    "print('【答】')\n",
    "commentAverage = 0\n",
    "likeAverage = 0\n",
    "for d in data:\n",
    "    commentAverage += d['commentCount']\n",
    "    likeAverage += d['likeCount']\n",
    "commentAverage /= len(data)\n",
    "likeAverage /= len(data)\n",
    "print(\"熱門文章的平均留言人數: {:.3f}，平均按讚人數: {:.3f}\".format(commentAverage, likeAverage))\n",
    "\n",
    "commentAverage = 0\n",
    "likeAverage = 0\n",
    "for d1 in data1:\n",
    "    commentAverage += d1['commentCount']\n",
    "    likeAverage += d1['likeCount']\n",
    "commentAverage /= len(data)\n",
    "likeAverage /= len(data)\n",
    "print(\"非熱門文章的平均留言人數: {:.3f}，平均按讚人數: {:.3f}\".format(commentAverage, likeAverage))"
   ]
  },
  {
   "cell_type": "code",
   "execution_count": null,
   "metadata": {},
   "outputs": [],
   "source": []
  }
 ],
 "metadata": {
  "colab": {
   "collapsed_sections": [],
   "name": "Day005_HW.ipynb",
   "provenance": []
  },
  "kernelspec": {
   "display_name": "Python 3",
   "language": "python",
   "name": "python3"
  },
  "language_info": {
   "codemirror_mode": {
    "name": "ipython",
    "version": 3
   },
   "file_extension": ".py",
   "mimetype": "text/x-python",
   "name": "python",
   "nbconvert_exporter": "python",
   "pygments_lexer": "ipython3",
   "version": "3.7.6"
  }
 },
 "nbformat": 4,
 "nbformat_minor": 1
}
