{
  "nbformat": 4,
  "nbformat_minor": 0,
  "metadata": {
    "kernelspec": {
      "display_name": "Python 3",
      "language": "python",
      "name": "python3"
    },
    "language_info": {
      "codemirror_mode": {
        "name": "ipython",
        "version": 3
      },
      "file_extension": ".py",
      "mimetype": "text/x-python",
      "name": "python",
      "nbconvert_exporter": "python",
      "pygments_lexer": "ipython3",
      "version": "3.6.5"
    },
    "colab": {
      "name": "Day006_HW.ipynb",
      "provenance": [],
      "collapsed_sections": []
    }
  },
  "cells": [
    {
      "cell_type": "markdown",
      "metadata": {
        "id": "6hr5Ymd_iI7S",
        "colab_type": "text"
      },
      "source": [
        "# API 資料串接 - 以 知乎 API 實作範例\n",
        "\n",
        "\n",
        "\n",
        "* 了解知乎 API 使用方式與回傳內容\n",
        "* 撰寫程式存取 API 且添加標頭\n",
        "\n",
        "\n"
      ]
    },
    {
      "cell_type": "markdown",
      "metadata": {
        "id": "zQ9xzLIxiI7T",
        "colab_type": "text"
      },
      "source": [
        "## 作業目標\n",
        "\n",
        "* 根據範例提供的 API https://www.zhihu.com/api/v4/questions/55493026/answers ，完成以下問題：\n",
        "\n",
        "    1. 取出知乎問題發問時間\n",
        "    2. 取出第一筆與最後一筆回答的時間\n"
      ]
    },
    {
      "cell_type": "markdown",
      "metadata": {
        "id": "SYwyt---iI7T",
        "colab_type": "text"
      },
      "source": [
        "### 1. 取出知乎問題發問時間"
      ]
    },
    {
      "cell_type": "code",
      "metadata": {
        "id": "yOUQEih_iI7U",
        "colab_type": "code",
        "colab": {
          "base_uri": "https://localhost:8080/",
          "height": 51
        },
        "outputId": "c2669c41-0e95-44ad-bf65-b14bcc009c00"
      },
      "source": [
        "# 1. 取出知乎問題發問時間\n",
        "\n",
        "import requests\n",
        "import json\n",
        "headers = {'user-agent': 'my-app/0.0.1'}\n",
        "r = requests.get('https://www.zhihu.com/api/v4/questions/55493026/answers', headers = headers)\n",
        "response = r.text\n",
        "data = json.loads(response)\n",
        "q_time = data['data'][0]['question']['created']\n",
        "# print(q_time)\n",
        "\n",
        "# 這裡讀出來的數字資料為時間戳記(Timestamp)，要將其轉換為可識別的時間類型\n",
        "from datetime import datetime\n",
        "q_date_time = datetime.fromtimestamp(q_time)\n",
        "print('【答】')\n",
        "print(q_date_time)"
      ],
      "execution_count": 18,
      "outputs": [
        {
          "output_type": "stream",
          "text": [
            "【答】\n",
            "2017-02-06 14:10:29\n"
          ],
          "name": "stdout"
        }
      ]
    },
    {
      "cell_type": "markdown",
      "metadata": {
        "id": "lKajl--WiI7X",
        "colab_type": "text"
      },
      "source": [
        "### 2. 取出第一筆與最後一筆回答的時間"
      ]
    },
    {
      "cell_type": "code",
      "metadata": {
        "id": "Bv3Rj1cCiI7Y",
        "colab_type": "code",
        "colab": {
          "base_uri": "https://localhost:8080/",
          "height": 68
        },
        "outputId": "09742d90-b351-42ed-e837-778525c4429b"
      },
      "source": [
        "# 2. 取出第一筆與最後一筆回答的時間\n",
        "\n",
        "first = latest = data['data'][0]['created_time']\n",
        "for ans in data['data']:\n",
        "    if ans['created_time'] > latest:\n",
        "        latest = ans['created_time']\n",
        "\n",
        "first = datetime.fromtimestamp(first)\n",
        "latest = datetime.fromtimestamp(latest)\n",
        "\n",
        "print('【答】')\n",
        "print(\"第一筆: {}\".format(first))\n",
        "print(\"最後一筆: {}\".format(latest))"
      ],
      "execution_count": 27,
      "outputs": [
        {
          "output_type": "stream",
          "text": [
            "【答】\n",
            "第一筆: 2019-04-01 02:17:08\n",
            "最後一筆: 2020-03-26 13:04:14\n"
          ],
          "name": "stdout"
        }
      ]
    }
  ]
}