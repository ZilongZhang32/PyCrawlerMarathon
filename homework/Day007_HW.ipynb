{
 "cells": [
  {
   "cell_type": "markdown",
   "metadata": {},
   "source": [
    "# HTTP 靜態網頁架構說明\n",
    "\n",
    "* 認識靜態網頁的溝通架構與運作原理\n",
    "* HTML、CSS、JavaScript 在網頁中扮演的角色\n",
    "* 網頁中定位資料的方法"
   ]
  },
  {
   "cell_type": "markdown",
   "metadata": {},
   "source": [
    "## 作業目標\n",
    "\n",
    "1. （簡答題）請問目前提到的這種基於 HTTP 一來一回的網頁傳輸方式，有哪些缺點及問題？\n",
    "2. （簡答題）網頁中使用的 JavaScipt 程式語言，跟我們一般使用的 Python 在執行上有什麼不同。\n"
   ]
  },
  {
   "cell_type": "markdown",
   "metadata": {},
   "source": [
    "### 1.（簡答題）請問目前提到的這種基於 HTTP 一來一回的網頁傳輸方式，有哪些缺點及問題？\n",
    "\n",
    "【答】\n",
    "\n",
    "一般的HTTP的機制為Client發送Request給Server，Server收到Request後會先處理，處理完後回傳一個Response給Client，而且一次只能處理一個Request。如果網頁上的資料有變動，那麼客戶端很有可能要再送一個Request，Server再做一次處理之後，回傳Response之後才能看到網頁的最新資料。在某個時段只有一個人發送Request是感覺不太出來的，但如果同時段有很多人發送Request給Server就會對Server造成很大的負擔。最常見的例子就是上網買某個歌手演唱會的門票，有搶過的人應該知道那種情境和忐忑不安的心情。"
   ]
  },
  {
   "cell_type": "markdown",
   "metadata": {},
   "source": [
    "### 2. （簡答題）網頁中使用的 JavaScipt 程式語言，跟我們一般使用的 Python 在執行上有什麼不同。\n",
    "\n",
    "【答】\n",
    "\n",
    "#### 補充\n",
    "Python V.S. Javascript\n",
    "[Reference](https://www.educba.com/python-vs-javascript/)\n",
    "\n",
    "|                                                | Python                                                                                                                                                                                                                                                                                                                                 | JavaScript                                                                                                                                                                                                                 |\n",
    "|------------------------------------------------|----------------------------------------------------------------------------------------------------------------------------------------------------------------------------------------------------------------------------------------------------------------------------------------------------------------------------------------|----------------------------------------------------------------------------------------------------------------------------------------------------------------------------------------------------------------------------|\n",
    "| 1. REPL (**R**ead-**E**val-**P**rint-**L**oop) | We'll get it with the installation of python  and call different python versions depending  on our installation.                                                                                                                                                                                                                       | For as most of the time we run in a browser. But we can use REPL by installing **node.js**                                                                                                                                 |\n",
    "| 2. Mutability                                  | Python has mutable and immutable data types like:   set(mutable) and list(immutable).                                                                                                                                                                                                                                                  | JavaScript has no concept of mutable and immutable.                                                                                                                                                                        |\n",
    "| 3. Strings                                     | In Python, source code is ASCII by default  unless we specify any encoding format.                                                                                                                                                                                                                                                     | JavaScript should be encoding as UTF-16 and no built-in  support for manipulating raw bytes.                                                                                                                               |\n",
    "| 4. Numbers                                     | In Python, we have different numeric types such as  `int`, `float`, fixed-point decimal etc.                                                                                                                                                                                                                                           | JavaScript has only floating numbers only.                                                                                                                                                                                 |\n",
    "| 5. Hash Tables                                 | Python has built-in hash tables, called dictionaries,  sets etc which can be used in hashing with keys and values.                                                                                                                                                                                                                     | JavaScript has no built-in hash table support.                                                                                                                                                                             |\n",
    "| 6. Inheritance                                 | Python use class-based inheritance module. Let us consider an example as below: ``` class Welcome(object):     def __init__(self, name):         self.name = name      def greet(self):         print('Hello, I am' + self.name) ``` From the above example shows you a class definition  and \\_\\_init\\_\\_  function is a constructor. | JavaScript uses prototype-based inheritance module. Let us consider an example below: ``` Welcome = function(name){     this.name = name     this.greet = function(){         return \"Hello, I am\" + this.name     } } ``` |\n",
    "| 7. Code Blocks                                 | Python use indentation.                                                                                                                                                                                                                                                                                                                | JavaScript use curly brackets.                                                                                                                                                                                             |\n",
    "| 8. Function Argument                           | Python will raise a exception if a function with in  incorrect parameters an accepts some additional parameter  passing syntax.                                                                                                                                                                                                        | JavaScript doesn't care whether function called with exact  parameters are not as by default any missing parameters  gets a value as \"undefined\" and any extra arguments end as  special arguments.                        |\n",
    "| 9. Data Types                                  | Python has 2 similar data types: list and tuple. Python's list and JavaScript array are quite similar.                                                                                                                                                                                                                                 | JavaScript has inbuilt array type.                                                                                                                                                                                         |\n",
    "| 10. Properties and Attributes                  | Python allows to define an attribute using descriptor protocol  where we can use a getter, setter functions.                                                                                                                                                                                                                           | JavaScript objects have properties which can be composed  of underlying attributes and it lets you define a property.                                                                                                      |\n",
    "| 11. Modules                                    | Python calls itself as a batteries included language as  it comes with a wide range of modules.                                                                                                                                                                                                                                        | JavaScript comes with very few modules like date, math,  regexp, JSON and it has the functionally available through  host environment like a web browser or some other environment.                                        |"
   ]
  }
 ],
 "metadata": {
  "kernelspec": {
   "display_name": "Python 3",
   "language": "python",
   "name": "python3"
  },
  "language_info": {
   "codemirror_mode": {
    "name": "ipython",
    "version": 3
   },
   "file_extension": ".py",
   "mimetype": "text/x-python",
   "name": "python",
   "nbconvert_exporter": "python",
   "pygments_lexer": "ipython3",
   "version": "3.7.6"
  }
 },
 "nbformat": 4,
 "nbformat_minor": 2
}
